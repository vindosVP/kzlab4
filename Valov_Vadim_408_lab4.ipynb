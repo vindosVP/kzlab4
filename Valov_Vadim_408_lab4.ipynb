{
  "cells": [
    {
      "cell_type": "code",
      "execution_count": 28,
      "metadata": {
        "colab": {
          "base_uri": "https://localhost:8080/",
          "height": 391
        },
        "id": "wVbNvT0DIcPf",
        "outputId": "314707d1-68aa-4f4f-ee9e-1763b905e0f0"
      },
      "outputs": [
        {
          "output_type": "execute_result",
          "data": {
            "text/html": [
              "\n",
              "  <div id=\"df-572a1445-103e-42f3-aa6d-44df17fbf051\">\n",
              "    <div class=\"colab-df-container\">\n",
              "      <div>\n",
              "<style scoped>\n",
              "    .dataframe tbody tr th:only-of-type {\n",
              "        vertical-align: middle;\n",
              "    }\n",
              "\n",
              "    .dataframe tbody tr th {\n",
              "        vertical-align: top;\n",
              "    }\n",
              "\n",
              "    .dataframe thead th {\n",
              "        text-align: right;\n",
              "    }\n",
              "</style>\n",
              "<table border=\"1\" class=\"dataframe\">\n",
              "  <thead>\n",
              "    <tr style=\"text-align: right;\">\n",
              "      <th></th>\n",
              "      <th>world_rank</th>\n",
              "      <th>institution</th>\n",
              "      <th>country</th>\n",
              "      <th>national_rank</th>\n",
              "      <th>quality_of_education</th>\n",
              "      <th>alumni_employment</th>\n",
              "      <th>quality_of_faculty</th>\n",
              "      <th>publications</th>\n",
              "      <th>influence</th>\n",
              "      <th>citations</th>\n",
              "      <th>broad_impact</th>\n",
              "      <th>patents</th>\n",
              "      <th>score</th>\n",
              "      <th>year</th>\n",
              "    </tr>\n",
              "  </thead>\n",
              "  <tbody>\n",
              "    <tr>\n",
              "      <th>2195</th>\n",
              "      <td>996</td>\n",
              "      <td>University of the Algarve</td>\n",
              "      <td>Portugal</td>\n",
              "      <td>7</td>\n",
              "      <td>367</td>\n",
              "      <td>567</td>\n",
              "      <td>218</td>\n",
              "      <td>926</td>\n",
              "      <td>845</td>\n",
              "      <td>812</td>\n",
              "      <td>969.0</td>\n",
              "      <td>816</td>\n",
              "      <td>44.03</td>\n",
              "      <td>2015</td>\n",
              "    </tr>\n",
              "    <tr>\n",
              "      <th>2196</th>\n",
              "      <td>997</td>\n",
              "      <td>Alexandria University</td>\n",
              "      <td>Egypt</td>\n",
              "      <td>4</td>\n",
              "      <td>236</td>\n",
              "      <td>566</td>\n",
              "      <td>218</td>\n",
              "      <td>997</td>\n",
              "      <td>908</td>\n",
              "      <td>645</td>\n",
              "      <td>981.0</td>\n",
              "      <td>871</td>\n",
              "      <td>44.03</td>\n",
              "      <td>2015</td>\n",
              "    </tr>\n",
              "    <tr>\n",
              "      <th>2197</th>\n",
              "      <td>998</td>\n",
              "      <td>Federal University of Ceará</td>\n",
              "      <td>Brazil</td>\n",
              "      <td>18</td>\n",
              "      <td>367</td>\n",
              "      <td>549</td>\n",
              "      <td>218</td>\n",
              "      <td>830</td>\n",
              "      <td>823</td>\n",
              "      <td>812</td>\n",
              "      <td>975.0</td>\n",
              "      <td>824</td>\n",
              "      <td>44.03</td>\n",
              "      <td>2015</td>\n",
              "    </tr>\n",
              "    <tr>\n",
              "      <th>2198</th>\n",
              "      <td>999</td>\n",
              "      <td>University of A Coruña</td>\n",
              "      <td>Spain</td>\n",
              "      <td>40</td>\n",
              "      <td>367</td>\n",
              "      <td>567</td>\n",
              "      <td>218</td>\n",
              "      <td>886</td>\n",
              "      <td>974</td>\n",
              "      <td>812</td>\n",
              "      <td>975.0</td>\n",
              "      <td>651</td>\n",
              "      <td>44.02</td>\n",
              "      <td>2015</td>\n",
              "    </tr>\n",
              "    <tr>\n",
              "      <th>2199</th>\n",
              "      <td>1000</td>\n",
              "      <td>China Pharmaceutical University</td>\n",
              "      <td>China</td>\n",
              "      <td>83</td>\n",
              "      <td>367</td>\n",
              "      <td>567</td>\n",
              "      <td>218</td>\n",
              "      <td>861</td>\n",
              "      <td>991</td>\n",
              "      <td>812</td>\n",
              "      <td>981.0</td>\n",
              "      <td>547</td>\n",
              "      <td>44.02</td>\n",
              "      <td>2015</td>\n",
              "    </tr>\n",
              "  </tbody>\n",
              "</table>\n",
              "</div>\n",
              "      <button class=\"colab-df-convert\" onclick=\"convertToInteractive('df-572a1445-103e-42f3-aa6d-44df17fbf051')\"\n",
              "              title=\"Convert this dataframe to an interactive table.\"\n",
              "              style=\"display:none;\">\n",
              "        \n",
              "  <svg xmlns=\"http://www.w3.org/2000/svg\" height=\"24px\"viewBox=\"0 0 24 24\"\n",
              "       width=\"24px\">\n",
              "    <path d=\"M0 0h24v24H0V0z\" fill=\"none\"/>\n",
              "    <path d=\"M18.56 5.44l.94 2.06.94-2.06 2.06-.94-2.06-.94-.94-2.06-.94 2.06-2.06.94zm-11 1L8.5 8.5l.94-2.06 2.06-.94-2.06-.94L8.5 2.5l-.94 2.06-2.06.94zm10 10l.94 2.06.94-2.06 2.06-.94-2.06-.94-.94-2.06-.94 2.06-2.06.94z\"/><path d=\"M17.41 7.96l-1.37-1.37c-.4-.4-.92-.59-1.43-.59-.52 0-1.04.2-1.43.59L10.3 9.45l-7.72 7.72c-.78.78-.78 2.05 0 2.83L4 21.41c.39.39.9.59 1.41.59.51 0 1.02-.2 1.41-.59l7.78-7.78 2.81-2.81c.8-.78.8-2.07 0-2.86zM5.41 20L4 18.59l7.72-7.72 1.47 1.35L5.41 20z\"/>\n",
              "  </svg>\n",
              "      </button>\n",
              "      \n",
              "  <style>\n",
              "    .colab-df-container {\n",
              "      display:flex;\n",
              "      flex-wrap:wrap;\n",
              "      gap: 12px;\n",
              "    }\n",
              "\n",
              "    .colab-df-convert {\n",
              "      background-color: #E8F0FE;\n",
              "      border: none;\n",
              "      border-radius: 50%;\n",
              "      cursor: pointer;\n",
              "      display: none;\n",
              "      fill: #1967D2;\n",
              "      height: 32px;\n",
              "      padding: 0 0 0 0;\n",
              "      width: 32px;\n",
              "    }\n",
              "\n",
              "    .colab-df-convert:hover {\n",
              "      background-color: #E2EBFA;\n",
              "      box-shadow: 0px 1px 2px rgba(60, 64, 67, 0.3), 0px 1px 3px 1px rgba(60, 64, 67, 0.15);\n",
              "      fill: #174EA6;\n",
              "    }\n",
              "\n",
              "    [theme=dark] .colab-df-convert {\n",
              "      background-color: #3B4455;\n",
              "      fill: #D2E3FC;\n",
              "    }\n",
              "\n",
              "    [theme=dark] .colab-df-convert:hover {\n",
              "      background-color: #434B5C;\n",
              "      box-shadow: 0px 1px 3px 1px rgba(0, 0, 0, 0.15);\n",
              "      filter: drop-shadow(0px 1px 2px rgba(0, 0, 0, 0.3));\n",
              "      fill: #FFFFFF;\n",
              "    }\n",
              "  </style>\n",
              "\n",
              "      <script>\n",
              "        const buttonEl =\n",
              "          document.querySelector('#df-572a1445-103e-42f3-aa6d-44df17fbf051 button.colab-df-convert');\n",
              "        buttonEl.style.display =\n",
              "          google.colab.kernel.accessAllowed ? 'block' : 'none';\n",
              "\n",
              "        async function convertToInteractive(key) {\n",
              "          const element = document.querySelector('#df-572a1445-103e-42f3-aa6d-44df17fbf051');\n",
              "          const dataTable =\n",
              "            await google.colab.kernel.invokeFunction('convertToInteractive',\n",
              "                                                     [key], {});\n",
              "          if (!dataTable) return;\n",
              "\n",
              "          const docLinkHtml = 'Like what you see? Visit the ' +\n",
              "            '<a target=\"_blank\" href=https://colab.research.google.com/notebooks/data_table.ipynb>data table notebook</a>'\n",
              "            + ' to learn more about interactive tables.';\n",
              "          element.innerHTML = '';\n",
              "          dataTable['output_type'] = 'display_data';\n",
              "          await google.colab.output.renderOutput(dataTable, element);\n",
              "          const docLink = document.createElement('div');\n",
              "          docLink.innerHTML = docLinkHtml;\n",
              "          element.appendChild(docLink);\n",
              "        }\n",
              "      </script>\n",
              "    </div>\n",
              "  </div>\n",
              "  "
            ],
            "text/plain": [
              "      world_rank                      institution  ...  score  year\n",
              "2195         996        University of the Algarve  ...  44.03  2015\n",
              "2196         997            Alexandria University  ...  44.03  2015\n",
              "2197         998      Federal University of Ceará  ...  44.03  2015\n",
              "2198         999           University of A Coruña  ...  44.02  2015\n",
              "2199        1000  China Pharmaceutical University  ...  44.02  2015\n",
              "\n",
              "[5 rows x 14 columns]"
            ]
          },
          "metadata": {},
          "execution_count": 28
        }
      ],
      "source": [
        "import matplotlib.pyplot as plt\n",
        "import seaborn as sns\n",
        "import pandas as pd\n",
        "import numpy as np\n",
        "import sklearn\n",
        "import warnings\n",
        "warnings.simplefilter(\"ignore\")\n",
        "%matplotlib inline\n",
        "sns.set(style=\"darkgrid\")\n",
        "url = 'https://raw.githubusercontent.com/vindosVP/kzlab4/main/cwurData.csv'\n",
        "data = pd.read_csv(url)\n",
        "data.tail()\n"
      ],
      "id": "wVbNvT0DIcPf"
    },
    {
      "cell_type": "code",
      "execution_count": 29,
      "metadata": {
        "colab": {
          "base_uri": "https://localhost:8080/"
        },
        "id": "7mqwN_5dIcPr",
        "outputId": "da7f8672-3eb9-4816-f3f6-df0c4f6121e5"
      },
      "outputs": [
        {
          "output_type": "execute_result",
          "data": {
            "text/plain": [
              "world_rank                0\n",
              "institution               0\n",
              "country                   0\n",
              "national_rank             0\n",
              "quality_of_education      0\n",
              "alumni_employment         0\n",
              "quality_of_faculty        0\n",
              "publications              0\n",
              "influence                 0\n",
              "citations                 0\n",
              "broad_impact            200\n",
              "patents                   0\n",
              "score                     0\n",
              "year                      0\n",
              "dtype: int64"
            ]
          },
          "metadata": {},
          "execution_count": 29
        }
      ],
      "source": [
        "# 2. Сделать препроцессинг, фичеинжинириг и т.д. \\\\ разрешается использование любых пакетов\n",
        "data.isna().sum()"
      ],
      "id": "7mqwN_5dIcPr"
    },
    {
      "cell_type": "code",
      "execution_count": 30,
      "metadata": {
        "id": "cLV8iDFlIcPt"
      },
      "outputs": [],
      "source": [
        "categorical = list(data.dtypes[data.dtypes == \"object\"].index)\n",
        "a = data[categorical]\n",
        "a = pd.get_dummies(a)\n",
        "\n",
        "def split(a):\n",
        "    if np.isnan(a)==True:\n",
        "            return 0\n",
        "    else:\n",
        "        return a\n",
        "    \n",
        "data = data.drop(columns=categorical)\n",
        "data = data.join(a)"
      ],
      "id": "cLV8iDFlIcPt"
    },
    {
      "cell_type": "code",
      "execution_count": 31,
      "metadata": {
        "id": "S4zWZbUoIcPx"
      },
      "outputs": [],
      "source": [
        "y = data[\"score\"]\n",
        "X = data.drop(columns=[\"score\",\"influence\"])\n",
        "\n",
        "from sklearn.model_selection import train_test_split\n",
        "\n",
        "num_f = data.select_dtypes(include=np.number).columns.tolist()\n",
        "X1 = data[num_f]\n",
        "num_f = X1.columns\n",
        "X1 = X1.fillna(method='bfill')\n",
        "X1.isna().mean()\n",
        "\n",
        "X_train, X_test, y_train, y_test = train_test_split(X1, y, test_size=0.2, random_state=10)"
      ],
      "id": "S4zWZbUoIcPx"
    },
    {
      "cell_type": "code",
      "execution_count": 32,
      "metadata": {
        "id": "kS0WKJvIIcP1"
      },
      "outputs": [],
      "source": [
        "for i in list(X_train.columns):\n",
        "    y_train = y_train.agg(split)\n",
        "    y_test = y_test.agg(split)\n",
        "    X_test[i] = X_test[i].agg(split)\n",
        "    X_train[i] = X_train[i].agg(split)"
      ],
      "id": "kS0WKJvIIcP1"
    },
    {
      "cell_type": "code",
      "execution_count": 33,
      "metadata": {
        "id": "GRVlMzV1IcP2"
      },
      "outputs": [],
      "source": [
        "from sklearn.preprocessing import StandardScaler\n",
        "scaler = StandardScaler()\n",
        "scaler.fit(X_train)\n",
        "X_train_scaled = scaler.transform(X_train)\n",
        "X_test_scaled  = scaler.transform(X_test)"
      ],
      "id": "GRVlMzV1IcP2"
    },
    {
      "cell_type": "code",
      "execution_count": 34,
      "metadata": {
        "colab": {
          "base_uri": "https://localhost:8080/",
          "height": 302
        },
        "id": "5XD_QxdsIcP3",
        "outputId": "5889a28d-dfd3-48a1-8f64-787e2d32da22"
      },
      "outputs": [
        {
          "output_type": "execute_result",
          "data": {
            "text/plain": [
              "<matplotlib.axes._subplots.AxesSubplot at 0x7f73ad2814d0>"
            ]
          },
          "metadata": {},
          "execution_count": 34
        },
        {
          "output_type": "display_data",
          "data": {
            "image/png": "[encoded data removed]",
            "text/plain": [
              "<Figure size 432x288 with 1 Axes>"
            ]
          },
          "metadata": {}
        }
      ],
      "source": [
        "# 2*. Посчитать различные статистики, визуализировать данные и сделать первичные выводы \\\\ разрешается использование любых пакетов\n",
        "sns.distplot(y_train)"
      ],
      "id": "5XD_QxdsIcP3"
    },
    {
      "cell_type": "code",
      "execution_count": 35,
      "metadata": {
        "id": "6gv8rybRIcP4"
      },
      "outputs": [],
      "source": [
        "# p2\n",
        "def r2(r, p):\n",
        "    Sum1 = np.sum((p - r) ** 2)\n",
        "    Sum2 = np.sum((r - np.mean(r)) ** 2)\n",
        "\n",
        "    r2 = 1 - Sum1 / Sum2\n",
        "\n",
        "    return r2"
      ],
      "id": "6gv8rybRIcP4"
    },
    {
      "cell_type": "code",
      "execution_count": 36,
      "metadata": {
        "id": "4BNMgWSpIcP5"
      },
      "outputs": [],
      "source": [
        "# 4. Реализовать и обучить логистическую регрессию или линейную регрессию \\\\ !!!не разрешается использовать sklearn!!!\n",
        "def predict_y(x, w, b):\n",
        "    return w*x + b\n",
        "\n",
        "def cost_function(x, y, w, b):\n",
        "    companies = len(x)\n",
        "    total_error = 0.0\n",
        "    for i in range(companies):\n",
        "        total_error += (y[i] - (w*x[i] + b))**2\n",
        "    return total_error / companies"
      ],
      "id": "4BNMgWSpIcP5"
    },
    {
      "cell_type": "code",
      "execution_count": 37,
      "metadata": {
        "id": "jzw-UpebIcP6"
      },
      "outputs": [],
      "source": [
        "def update(x, y, w, b, rate):\n",
        "    w_deriv = 0\n",
        "    b_deriv = 0\n",
        "    companies = len(x)\n",
        "\n",
        "    for i in range(companies):\n",
        "        # Вычисление частных производных\n",
        "        # -2x(y - (mx + b))\n",
        "        w_deriv += -2*x[i] * (y[i] - (w*x[i] + b))\n",
        "\n",
        "        # -2(y - (mx + b))\n",
        "        b_deriv += -2*(y[i] - (w*x[i] + b))\n",
        "\n",
        "    # Мы вычитаем, потому что производные указывают в направлении самого крутого подъема\n",
        "    w -= (w_deriv / companies) * rate\n",
        "    b -= (b_deriv / companies) * rate\n",
        "\n",
        "    return w, b"
      ],
      "id": "jzw-UpebIcP6"
    },
    {
      "cell_type": "code",
      "execution_count": 38,
      "metadata": {
        "id": "eSPLJ7QTIcP7"
      },
      "outputs": [],
      "source": [
        "def train(x, y, w, b, rate, iters):\n",
        "    cost_history = []\n",
        "\n",
        "    for i in range(iters):\n",
        "        w,b = update(x, y, w, b, rate)\n",
        "\n",
        "        #Calculate cost for auditing purposes\n",
        "        cost = cost_function(x, y, w, b)\n",
        "        cost_history.append(cost)\n",
        "\n",
        "        # Log Progress\n",
        "        if i % 10 == 0:\n",
        "            print(\"iter={}    weight={}    bias={}    cost={}\".format(i, w, b, cost))\n",
        "            \n",
        "\n",
        "    return w, b, cost_history, score"
      ],
      "id": "eSPLJ7QTIcP7"
    },
    {
      "cell_type": "code",
      "execution_count": 42,
      "metadata": {
        "scrolled": true,
        "colab": {
          "base_uri": "https://localhost:8080/"
        },
        "id": "tUotWhiHIcP8",
        "outputId": "980c55cc-4efe-418f-956e-07516858191e"
      },
      "outputs": [
        {
          "output_type": "stream",
          "name": "stdout",
          "text": [
            "iter=0    weight=[ 0.00093148 -0.0093311  -0.00203402 ... -0.00120547  0.00093929\n",
            " -0.00261905]    bias=[0.95682857 0.95682857 0.95682857 ... 0.95682857 0.95682857 0.95682857]    cost=[2259.34584468 2259.33731069 2259.34552099 ... 2259.34578671 2259.34584323\n",
            " 2259.34525149]\n",
            "iter=10    weight=[ 0.00928075 -0.09296983 -0.02026578 ... -0.01201057  0.00935854\n",
            " -0.02609476]    bias=[9.53329685 9.53329685 9.53329685 ... 9.53329685 9.53329685 9.53329685]    cost=[1528.69239108 1528.6150617  1528.68945804 ... 1528.69186585 1528.69237797\n",
            " 1528.68701601]\n",
            "iter=20    weight=[ 0.01610271 -0.16130875 -0.03516246 ... -0.02083913  0.01623768\n",
            " -0.04527612]    bias=[16.54089586 16.54089586 16.54089586 ... 16.54089586 16.54089586\n",
            " 16.54089586]    cost=[1040.90232086 1040.77906314 1040.8976458  ... 1040.90148369 1040.90229998\n",
            " 1040.89375337]\n",
            "iter=30    weight=[ 0.02167675 -0.21714663 -0.04733413 ... -0.0280527   0.02185844\n",
            " -0.06094869]    bias=[22.26661445 22.26661445 22.26661445 ... 22.26661445 22.26661445\n",
            " 22.26661445]    cost=[715.24978145 715.09586159 715.2439434  ... 715.24873601 715.24975537\n",
            " 715.23908267]\n",
            "iter=40    weight=[ 0.02623115 -0.26277024 -0.05727927 ... -0.03394672  0.02645101\n",
            " -0.07375432]    bias=[26.94494341 26.94494341 26.94494341 ... 26.94494341 26.94494341\n",
            " 26.94494341]    cost=[497.84155011 497.66715997 497.83493564 ... 497.84036564 497.84152056\n",
            " 497.82942847]\n",
            "iter=50    weight=[ 0.02995242 -0.30004805 -0.06540517 ... -0.03876256  0.03020347\n",
            " -0.08421745]    bias=[30.76747879 30.76747879 30.76747879 ... 30.76747879 30.76747879\n",
            " 30.76747879]    cost=[352.69808174 352.51002548 352.69094893 ... 352.69680445 352.69804988\n",
            " 352.68501019]\n",
            "iter=60    weight=[ 0.03299297 -0.33050674 -0.07204463 ... -0.04269745  0.0332695\n",
            " -0.09276659]    bias=[33.8907685 33.8907685 33.8907685 ... 33.8907685 33.8907685 33.8907685]    cost=[255.79914521 255.60196533 255.79166635 ... 255.79780595 255.7991118\n",
            " 255.78543949]\n",
            "iter=70    weight=[ 0.03547733 -0.3553937  -0.07746955 ... -0.04591254  0.03577468\n",
            " -0.09975186]    bias=[36.44272359 36.44272359 36.44272359 ... 36.44272359 36.44272359\n",
            " 36.44272359]    cost=[191.10864273 190.90537185 191.10093284 ... 191.1072621  191.10860829\n",
            " 191.09451363]\n",
            "iter=80    weight=[ 0.03750722 -0.37572817 -0.0819021  ... -0.04853951  0.03782159\n",
            " -0.10545934]    bias=[38.52785669 38.52785669 38.52785669 ... 38.52785669 38.52785669\n",
            " 38.52785669]    cost=[147.92074758 147.7134103  147.91288345 ... 147.91933933 147.92071245\n",
            " 147.90633582]\n",
            "iter=90    weight=[ 0.03916579 -0.3923429  -0.08552382 ... -0.05068593  0.03949406\n",
            " -0.11012276]    bias=[40.23156226 40.23156226 40.23156226 ... 40.23156226 40.23156226\n",
            " 40.23156226]    cost=[119.08816449 118.87811245 119.08019739 ... 119.0867378  119.0881289\n",
            " 119.07356404]\n"
          ]
        }
      ],
      "source": [
        "x = X_train_sc\n",
        "y = y_train.values\n",
        "for i in range(len(x)):\n",
        "    for k in range(len(x[i])):\n",
        "        if np.isnan(x[i][k])==True:\n",
        "            x[i][k]=0\n",
        "for i in range(len(y)):\n",
        "    if np.isnan(y[i])==True:\n",
        "            y[i]=0\n",
        "weight = 0 # веса\n",
        "bias = 0 # сдвиг\n",
        "lr = 0.01 # качество обучения\n",
        "iters = 100 # итерации\n",
        "score = [] # оценка\n",
        "w, b, cost_history, score = train(x,y,weight,bias,lr,iters)"
      ],
      "id": "tUotWhiHIcP8"
    },
    {
      "cell_type": "code",
      "execution_count": null,
      "metadata": {
        "id": "pIf6a6pCIcP9"
      },
      "outputs": [],
      "source": [
        "# 4*. Добавить регуляризацию \\\\ не разрешается использовать sklearn"
      ],
      "id": "pIf6a6pCIcP9"
    },
    {
      "cell_type": "code",
      "execution_count": 43,
      "metadata": {
        "colab": {
          "base_uri": "https://localhost:8080/"
        },
        "id": "wwb6GqDKIcP9",
        "outputId": "e00de670-28cd-42bc-d597-4035c5fe8706"
      },
      "outputs": [
        {
          "output_type": "execute_result",
          "data": {
            "text/plain": [
              "array([[41.44945781, 41.79328246, 41.56022285, ..., 41.49848292,\n",
              "        41.48615066, 41.50055071],\n",
              "       [41.52410774, 41.65471761, 41.42924338, ..., 41.49848292,\n",
              "        41.48615066, 41.50055071],\n",
              "       [41.53477201, 41.55464299, 41.42924338, ..., 41.49848292,\n",
              "        41.48615066, 41.50055071],\n",
              "       ...,\n",
              "       [41.53783799, 41.40068205, 41.42924338, ..., 41.49848292,\n",
              "        41.48615066, 41.50055071],\n",
              "       [41.53783799, 41.59313323, 41.43787939, ..., 41.49848292,\n",
              "        41.48615066, 41.50055071],\n",
              "       [41.51650944, 41.67781175, 41.42924338, ..., 41.49848292,\n",
              "        41.48615066, 41.50055071]])"
            ]
          },
          "metadata": {},
          "execution_count": 43
        }
      ],
      "source": [
        "# 5. Оценить качество модели на обучающей и тестовой выборках \\\\ не разрешается использовать sklearn\n",
        "x = X_test_scaled\n",
        "y = y_test.values\n",
        "for i in range(len(x)):\n",
        "    for k in range(len(x[i])):\n",
        "        if np.isnan(x[i][k])==True:\n",
        "            x[i][k]=0\n",
        "for i in range(len(y)):\n",
        "    if np.isnan(y[i])==True:\n",
        "            y[i]=0\n",
        "predict_y (x, w, b)"
      ],
      "id": "wwb6GqDKIcP9"
    },
    {
      "cell_type": "code",
      "execution_count": 44,
      "metadata": {
        "colab": {
          "base_uri": "https://localhost:8080/",
          "height": 268
        },
        "id": "GXgIBUK-IcP_",
        "outputId": "324791c7-69da-498d-b878-10f176e4884f"
      },
      "outputs": [
        {
          "output_type": "display_data",
          "data": {
            "image/png": "[encoded data removed]",
            "text/plain": [
              "<Figure size 432x288 with 1 Axes>"
            ]
          },
          "metadata": {}
        }
      ],
      "source": [
        "# 5*. Сделать график ошибки модели на обучающей и тестовой выборках \n",
        "# 5*. Сделать график точности модели на обучающей и тестовой выборках\n",
        "plt.plot(cost_history)\n",
        "plt.grid(True)\n",
        "plt.show()"
      ],
      "id": "GXgIBUK-IcP_"
    },
    {
      "cell_type": "code",
      "execution_count": 45,
      "metadata": {
        "colab": {
          "base_uri": "https://localhost:8080/"
        },
        "id": "G-7EjIXUIcQB",
        "outputId": "3220b4fd-4b7f-40eb-85c2-0915b24b7bb6"
      },
      "outputs": [
        {
          "output_type": "stream",
          "name": "stdout",
          "text": [
            "LinearRegression: 0.999628518532785\n",
            "LR RMSE: 0.13972835555859478\n"
          ]
        }
      ],
      "source": [
        "# 6. Обучить логистическую регрессию или линейную регрессию из sklearn, оценить качество модели на \n",
        "# обучающей и тестовой выборках и сравнить со своей моделью\n",
        "from sklearn import linear_model\n",
        "from sklearn.metrics import mean_squared_error\n",
        "\n",
        "lr = linear_model.LinearRegression()\n",
        "lr.fit(X_train_scaled, y_train)\n",
        "print (\"LinearRegression:\", lr.score(X_test_scaled, y_test))\n",
        "print (\"LR RMSE:\", np.sqrt(mean_squared_error(lr.predict(X_test_scaled), y_test)))"
      ],
      "id": "G-7EjIXUIcQB"
    },
    {
      "cell_type": "code",
      "execution_count": null,
      "metadata": {
        "id": "HuxIUwNyIcQD"
      },
      "outputs": [],
      "source": [
        "# 6*. Сделать график ошибки модели из sklearn на обучающей и тестовой выборках и сравнить со своей моделью\n",
        "# 6*. Сделать график точности модели из sklearn на обучающей и тестовой выборках и сравнить со своей моделью"
      ],
      "id": "HuxIUwNyIcQD"
    },
    {
      "cell_type": "code",
      "execution_count": 46,
      "metadata": {
        "colab": {
          "base_uri": "https://localhost:8080/",
          "height": 314
        },
        "id": "VF3gP4ecIcQE",
        "outputId": "fb3b708e-9ac6-4d78-bd54-6da5c28e96ad"
      },
      "outputs": [
        {
          "output_type": "execute_result",
          "data": {
            "text/plain": [
              "<matplotlib.axes._subplots.AxesSubplot at 0x7f73a3092b10>"
            ]
          },
          "metadata": {},
          "execution_count": 46
        },
        {
          "output_type": "display_data",
          "data": {
            "image/png": "[encoded data removed]",
            "text/plain": [
              "<Figure size 432x288 with 1 Axes>"
            ]
          },
          "metadata": {}
        }
      ],
      "source": [
        "error = (y_train - lr.predict(X_train)) ** 2\n",
        "sns.distplot(error)"
      ],
      "id": "VF3gP4ecIcQE"
    },
    {
      "cell_type": "code",
      "execution_count": 47,
      "metadata": {
        "colab": {
          "base_uri": "https://localhost:8080/",
          "height": 314
        },
        "id": "odnWQ-G_IcQF",
        "outputId": "70f7bc3a-dd25-4932-c528-910350dfbeaa"
      },
      "outputs": [
        {
          "output_type": "execute_result",
          "data": {
            "text/plain": [
              "<matplotlib.axes._subplots.AxesSubplot at 0x7f73a30cd410>"
            ]
          },
          "metadata": {},
          "execution_count": 47
        },
        {
          "output_type": "display_data",
          "data": {
            "image/png": "[encoded data removed]",
            "text/plain": [
              "<Figure size 432x288 with 1 Axes>"
            ]
          },
          "metadata": {}
        }
      ],
      "source": [
        "error = (y_test - lr.predict(X_test)) ** 2\n",
        "sns.distplot(error)"
      ],
      "id": "odnWQ-G_IcQF"
    },
    {
      "cell_type": "code",
      "execution_count": null,
      "metadata": {
        "id": "FWGtpn6DIcQF"
      },
      "outputs": [],
      "source": [
        ""
      ],
      "id": "FWGtpn6DIcQF"
    }
  ],
  "metadata": {
    "kernelspec": {
      "display_name": "Python 3",
      "language": "python",
      "name": "python3"
    },
    "language_info": {
      "codemirror_mode": {
        "name": "ipython",
        "version": 3
      },
      "file_extension": ".py",
      "mimetype": "text/x-python",
      "name": "python",
      "nbconvert_exporter": "python",
      "pygments_lexer": "ipython3",
      "version": "3.8.5"
    },
    "colab": {
      "name": "Valov_Vadim_408_lab4.ipynb",
      "provenance": []
    }
  },
  "nbformat": 4,
  "nbformat_minor": 5
}